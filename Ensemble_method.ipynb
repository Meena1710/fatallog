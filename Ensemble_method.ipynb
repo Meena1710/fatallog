{
 "cells": [
  {
   "cell_type": "code",
   "execution_count": 42,
   "id": "b6cae016-009a-44d0-a926-7c0dea0e7cd3",
   "metadata": {},
   "outputs": [
    {
     "name": "stdout",
     "output_type": "stream",
     "text": [
      "   LineId Label   Timestamp        Date   User Month  Day      Time  \\\n",
      "0       1     -  1131566461  2005.11.09  dn228   Nov    9  12:01:01   \n",
      "1       2     -  1131566461  2005.11.09  dn228   Nov    9  12:01:01   \n",
      "2       3     -  1131566461  2005.11.09  dn228   Nov    9  12:01:01   \n",
      "3       4     -  1131566461  2005.11.09  dn261   Nov    9  12:01:01   \n",
      "4       5     -  1131566461  2005.11.09  dn261   Nov    9  12:01:01   \n",
      "\n",
      "      Location        Component     PID  \\\n",
      "0  dn228/dn228  crond(pam_unix)  2915.0   \n",
      "1  dn228/dn228  crond(pam_unix)  2915.0   \n",
      "2  dn228/dn228            crond  2916.0   \n",
      "3  dn261/dn261  crond(pam_unix)  2907.0   \n",
      "4  dn261/dn261  crond(pam_unix)  2907.0   \n",
      "\n",
      "                                   Content EventId  \\\n",
      "0             session closed for user root    E117   \n",
      "1  session opened for user root by (uid=0)    E118   \n",
      "2  (root) CMD (run-parts /etc/cron.hourly)      E3   \n",
      "3             session closed for user root    E117   \n",
      "4  session opened for user root by (uid=0)    E118   \n",
      "\n",
      "                             EventTemplate  \n",
      "0             session closed for user root  \n",
      "1  session opened for user root by (uid=0)  \n",
      "2  (root) CMD (run-parts /etc/cron.hourly)  \n",
      "3             session closed for user root  \n",
      "4  session opened for user root by (uid=0)  \n"
     ]
    }
   ],
   "source": [
    "import pandas as pd\n",
    "\n",
    "# Load the CSV file\n",
    "file_path = 'Thunderbird_2k.log_structured.csv'\n",
    "data = pd.read_csv(file_path)\n",
    "\n",
    "# Display the first few rows of the DataFrame\n",
    "print(data.head())"
   ]
  },
  {
   "cell_type": "code",
   "execution_count": 43,
   "id": "6408cd20-b2c3-4c0f-8d79-b7f81c008601",
   "metadata": {},
   "outputs": [
    {
     "name": "stdout",
     "output_type": "stream",
     "text": [
      "  Label   Timestamp   User     Location        Component     PID  \\\n",
      "0     -  1131566461  dn228  dn228/dn228  crond(pam_unix)  2915.0   \n",
      "1     -  1131566461  dn228  dn228/dn228  crond(pam_unix)  2915.0   \n",
      "2     -  1131566461  dn228  dn228/dn228            crond  2916.0   \n",
      "3     -  1131566461  dn261  dn261/dn261  crond(pam_unix)  2907.0   \n",
      "4     -  1131566461  dn261  dn261/dn261  crond(pam_unix)  2907.0   \n",
      "\n",
      "                                   Content EventId  \\\n",
      "0             session closed for user root    E117   \n",
      "1  session opened for user root by (uid=0)    E118   \n",
      "2  (root) CMD (run-parts /etc/cron.hourly)      E3   \n",
      "3             session closed for user root    E117   \n",
      "4  session opened for user root by (uid=0)    E118   \n",
      "\n",
      "                             EventTemplate            DateTime  \n",
      "0             session closed for user root 2005-11-09 20:01:01  \n",
      "1  session opened for user root by (uid=0) 2005-11-09 20:01:01  \n",
      "2  (root) CMD (run-parts /etc/cron.hourly) 2005-11-09 20:01:01  \n",
      "3             session closed for user root 2005-11-09 20:01:01  \n",
      "4  session opened for user root by (uid=0) 2005-11-09 20:01:01  \n"
     ]
    }
   ],
   "source": [
    "# Step 1: Remove duplicate rows\n",
    "data_cleaned = data.drop_duplicates()\n",
    "\n",
    "# Step 2: Handle missing values\n",
    "# Filling missing 'PID' values with the mean\n",
    "data_cleaned['PID'].fillna(data_cleaned['PID'].mean(), inplace=True)\n",
    "\n",
    "# Step 3: Convert 'Timestamp' to a datetime format\n",
    "data_cleaned['DateTime'] = pd.to_datetime(data_cleaned['Timestamp'], unit='s')\n",
    "\n",
    "# Step 4: Drop irrelevant columns\n",
    "# Dropping columns like 'LineId', 'Date', 'Month', 'Day', and 'Time' as they may not provide useful information\n",
    "data_cleaned.drop(['LineId', 'Date', 'Month', 'Day', 'Time'], axis=1, inplace=True)\n",
    "\n",
    "# Display the cleaned data\n",
    "print(data_cleaned.head())\n"
   ]
  },
  {
   "cell_type": "code",
   "execution_count": 44,
   "id": "13e6aa82-7910-4ac8-9070-ce65fd455072",
   "metadata": {},
   "outputs": [
    {
     "name": "stdout",
     "output_type": "stream",
     "text": [
      "  Label   Timestamp  User  Location  Component     PID  \\\n",
      "0     -  1131566461   415       408         25  2915.0   \n",
      "1     -  1131566461   415       408         25  2915.0   \n",
      "2     -  1131566461   415       408         24  2916.0   \n",
      "3     -  1131566461   419       412         25  2907.0   \n",
      "4     -  1131566461   419       412         25  2907.0   \n",
      "\n",
      "                                   Content  EventId  EventTemplate  \\\n",
      "0             session closed for user root       20            137   \n",
      "1  session opened for user root by (uid=0)       21            138   \n",
      "2  (root) CMD (run-parts /etc/cron.hourly)       72              2   \n",
      "3             session closed for user root       20            137   \n",
      "4  session opened for user root by (uid=0)       21            138   \n",
      "\n",
      "   User_Mean_PID  \n",
      "0    2915.333333  \n",
      "1    2915.333333  \n",
      "2    2915.333333  \n",
      "3    2907.333333  \n",
      "4    2907.333333  \n"
     ]
    }
   ],
   "source": [
    "from sklearn.preprocessing import LabelEncoder\n",
    "\n",
    "# Initialize label encoders for categorical features\n",
    "label_encoders = {}\n",
    "\n",
    "# 2. Encoding Categorical Features\n",
    "# Label encoding for categorical features\n",
    "for col in ['User', 'Location', 'Component', 'EventId', 'EventTemplate']:\n",
    "    le = LabelEncoder()\n",
    "    data_cleaned[col] = le.fit_transform(data_cleaned[col])\n",
    "    label_encoders[col] = le  # Store the label encoder for future use\n",
    "\n",
    "# 3. Text Feature Engineering using TF-IDF\n",
    "# Assuming the TF-IDF code provided earlier is used\n",
    "\n",
    "# 4. Statistical Features: Group by 'User' and compute mean PID\n",
    "data_cleaned['User_Mean_PID'] = data_cleaned.groupby('User')['PID'].transform('mean')\n",
    "\n",
    "# Drop the original 'DateTime' column after extracting features\n",
    "data_cleaned.drop(['DateTime'], axis=1, inplace=True)\n",
    "\n",
    "# Display the data with new features\n",
    "print(data_cleaned.head())"
   ]
  },
  {
   "cell_type": "code",
   "execution_count": 45,
   "id": "ae90934f-67bb-4e88-879a-46bd91c67526",
   "metadata": {},
   "outputs": [
    {
     "name": "stdout",
     "output_type": "stream",
     "text": [
      "  Label  Timestamp  User  Location  Component       PID  \\\n",
      "0     -  -1.770786   415       408         25 -0.766502   \n",
      "1     -  -1.770786   415       408         25 -0.766502   \n",
      "2     -  -1.770786   415       408         24 -0.766403   \n",
      "3     -  -1.770786   419       412         25 -0.767293   \n",
      "4     -  -1.770786   419       412         25 -0.767293   \n",
      "\n",
      "                                   Content  EventId  EventTemplate  \\\n",
      "0             session closed for user root       20            137   \n",
      "1  session opened for user root by (uid=0)       21            138   \n",
      "2  (root) CMD (run-parts /etc/cron.hourly)       72              2   \n",
      "3             session closed for user root       20            137   \n",
      "4  session opened for user root by (uid=0)       21            138   \n",
      "\n",
      "   User_Mean_PID  \n",
      "0    2915.333333  \n",
      "1    2915.333333  \n",
      "2    2915.333333  \n",
      "3    2907.333333  \n",
      "4    2907.333333  \n"
     ]
    }
   ],
   "source": [
    "from sklearn.preprocessing import StandardScaler, MinMaxScaler\n",
    "\n",
    "# Choose scaling method: Standardization or Normalization\n",
    "scaler = StandardScaler()  # For standardization\n",
    "# scaler = MinMaxScaler()  # Uncomment this for normalization\n",
    "\n",
    "# Selecting numerical columns for scaling\n",
    "numerical_features = ['PID', 'Timestamp']  # Add more numerical columns if needed\n",
    "\n",
    "# Applying scaling\n",
    "data_cleaned[numerical_features] = scaler.fit_transform(data_cleaned[numerical_features])\n",
    "\n",
    "# Display the scaled data\n",
    "print(data_cleaned.head())"
   ]
  },
  {
   "cell_type": "code",
   "execution_count": 46,
   "id": "8812dd34-d69d-4657-9a16-48d780fa915c",
   "metadata": {},
   "outputs": [
    {
     "name": "stdout",
     "output_type": "stream",
     "text": [
      "Index(['Label', 'Timestamp', 'User', 'Location', 'Component', 'PID', 'Content',\n",
      "       'EventId', 'EventTemplate', 'User_Mean_PID'],\n",
      "      dtype='object')\n"
     ]
    }
   ],
   "source": [
    "print(data_cleaned.columns)"
   ]
  },
  {
   "cell_type": "code",
   "execution_count": 102,
   "id": "0879d384-0d55-4846-a205-63bb060370a4",
   "metadata": {},
   "outputs": [],
   "source": [
    "# Assuming 'Label' is your target variable\n",
    "X = data_cleaned.drop('Label', axis=1)\n",
    "y = data_cleaned['Label']\n",
    "\n",
    "# Encode the target variable if it's categorical\n",
    "y = LabelEncoder().fit_transform(y.astype(str))\n"
   ]
  },
  {
   "cell_type": "code",
   "execution_count": 103,
   "id": "b202d2ea-6194-4611-b69c-e3fc3f5bf418",
   "metadata": {},
   "outputs": [],
   "source": [
    "from sklearn.model_selection import train_test_split\n",
    "\n",
    "X_train, X_test, y_train, y_test = train_test_split(X, y, test_size=0.2, random_state=42)"
   ]
  },
  {
   "cell_type": "code",
   "execution_count": 104,
   "id": "8782e6f9-2397-4c12-9cc9-b1fe50e25bd5",
   "metadata": {},
   "outputs": [],
   "source": [
    "# If you haven't already, scale the features\n",
    "numerical_features = ['PID', 'Timestamp', 'User_Mean_PID']  # Add any other numerical features\n",
    "X_train[numerical_features] = scaler.fit_transform(X_train[numerical_features])\n",
    "X_test[numerical_features] = scaler.transform(X_test[numerical_features])"
   ]
  },
  {
   "cell_type": "code",
   "execution_count": 105,
   "id": "23f74af8-8348-4bc0-98f6-710978825402",
   "metadata": {},
   "outputs": [],
   "source": [
    "# Reshape X_train and X_test\n",
    "# For simplicity, using 1 time step\n",
    "X_train_rnn = X_train.values.reshape(X_train.shape[0], 1, X_train.shape[1])\n",
    "X_test_rnn = X_test.values.reshape(X_test.shape[0], 1, X_test.shape[1])"
   ]
  },
  {
   "cell_type": "code",
   "execution_count": 106,
   "id": "58408bf7-0b39-4dad-a44d-cce074bcb5aa",
   "metadata": {},
   "outputs": [
    {
     "name": "stderr",
     "output_type": "stream",
     "text": [
      "/opt/anaconda3/lib/python3.11/site-packages/keras/src/layers/rnn/rnn.py:204: UserWarning: Do not pass an `input_shape`/`input_dim` argument to a layer. When using Sequential models, prefer using an `Input(shape)` object as the first layer in the model instead.\n",
      "  super().__init__(**kwargs)\n"
     ]
    }
   ],
   "source": [
    "from tensorflow.keras.models import Sequential\n",
    "from tensorflow.keras.layers import SimpleRNN, Dense, Dropout\n",
    "\n",
    "# Build RNN model\n",
    "model = Sequential()\n",
    "model.add(SimpleRNN(50, activation='relu', input_shape=(X_train_rnn.shape[1], X_train_rnn.shape[2])))\n",
    "model.add(Dropout(0.2))\n",
    "model.add(Dense(1, activation='sigmoid'))  # Adjust output layer based on your labels\n",
    "\n",
    "# Compile the model\n",
    "model.compile(optimizer='adam', loss='binary_crossentropy', metrics=['accuracy'])"
   ]
  },
  {
   "cell_type": "code",
   "execution_count": 107,
   "id": "e6f902ac-befc-4bab-9a94-1ba424670a8f",
   "metadata": {},
   "outputs": [
    {
     "name": "stdout",
     "output_type": "stream",
     "text": [
      "Epoch 1/20\n",
      "\u001b[1m50/50\u001b[0m \u001b[32m━━━━━━━━━━━━━━━━━━━━\u001b[0m\u001b[37m\u001b[0m \u001b[1m1s\u001b[0m 2ms/step - accuracy: 0.9942 - loss: 0.0554 - val_accuracy: 1.0000 - val_loss: 3.5178e-06\n",
      "Epoch 2/20\n",
      "\u001b[1m50/50\u001b[0m \u001b[32m━━━━━━━━━━━━━━━━━━━━\u001b[0m\u001b[37m\u001b[0m \u001b[1m0s\u001b[0m 659us/step - accuracy: 1.0000 - loss: 3.0301e-04 - val_accuracy: 1.0000 - val_loss: 1.6979e-06\n",
      "Epoch 3/20\n",
      "\u001b[1m50/50\u001b[0m \u001b[32m━━━━━━━━━━━━━━━━━━━━\u001b[0m\u001b[37m\u001b[0m \u001b[1m0s\u001b[0m 631us/step - accuracy: 0.9998 - loss: 0.0076 - val_accuracy: 1.0000 - val_loss: 2.7886e-07\n",
      "Epoch 4/20\n",
      "\u001b[1m50/50\u001b[0m \u001b[32m━━━━━━━━━━━━━━━━━━━━\u001b[0m\u001b[37m\u001b[0m \u001b[1m0s\u001b[0m 639us/step - accuracy: 1.0000 - loss: 3.1228e-08 - val_accuracy: 1.0000 - val_loss: 1.6873e-07\n",
      "Epoch 5/20\n",
      "\u001b[1m50/50\u001b[0m \u001b[32m━━━━━━━━━━━━━━━━━━━━\u001b[0m\u001b[37m\u001b[0m \u001b[1m0s\u001b[0m 620us/step - accuracy: 0.9999 - loss: 1.9807e-04 - val_accuracy: 1.0000 - val_loss: 1.2549e-07\n",
      "Epoch 6/20\n",
      "\u001b[1m50/50\u001b[0m \u001b[32m━━━━━━━━━━━━━━━━━━━━\u001b[0m\u001b[37m\u001b[0m \u001b[1m0s\u001b[0m 627us/step - accuracy: 1.0000 - loss: 1.7955e-06 - val_accuracy: 1.0000 - val_loss: 9.2905e-08\n",
      "Epoch 7/20\n",
      "\u001b[1m50/50\u001b[0m \u001b[32m━━━━━━━━━━━━━━━━━━━━\u001b[0m\u001b[37m\u001b[0m \u001b[1m0s\u001b[0m 616us/step - accuracy: 1.0000 - loss: 1.4529e-11 - val_accuracy: 1.0000 - val_loss: 9.2736e-08\n",
      "Epoch 8/20\n",
      "\u001b[1m50/50\u001b[0m \u001b[32m━━━━━━━━━━━━━━━━━━━━\u001b[0m\u001b[37m\u001b[0m \u001b[1m0s\u001b[0m 602us/step - accuracy: 1.0000 - loss: 2.1068e-08 - val_accuracy: 1.0000 - val_loss: 9.2717e-08\n",
      "Epoch 9/20\n",
      "\u001b[1m50/50\u001b[0m \u001b[32m━━━━━━━━━━━━━━━━━━━━\u001b[0m\u001b[37m\u001b[0m \u001b[1m0s\u001b[0m 607us/step - accuracy: 1.0000 - loss: 3.8818e-10 - val_accuracy: 1.0000 - val_loss: 9.2697e-08\n",
      "Epoch 10/20\n",
      "\u001b[1m50/50\u001b[0m \u001b[32m━━━━━━━━━━━━━━━━━━━━\u001b[0m\u001b[37m\u001b[0m \u001b[1m0s\u001b[0m 616us/step - accuracy: 0.9992 - loss: 0.0013 - val_accuracy: 1.0000 - val_loss: 1.2790e-08\n",
      "Epoch 11/20\n",
      "\u001b[1m50/50\u001b[0m \u001b[32m━━━━━━━━━━━━━━━━━━━━\u001b[0m\u001b[37m\u001b[0m \u001b[1m0s\u001b[0m 622us/step - accuracy: 1.0000 - loss: 5.1452e-16 - val_accuracy: 1.0000 - val_loss: 1.2189e-08\n",
      "Epoch 12/20\n",
      "\u001b[1m50/50\u001b[0m \u001b[32m━━━━━━━━━━━━━━━━━━━━\u001b[0m\u001b[37m\u001b[0m \u001b[1m0s\u001b[0m 605us/step - accuracy: 1.0000 - loss: 2.2861e-10 - val_accuracy: 1.0000 - val_loss: 1.2079e-08\n",
      "Epoch 13/20\n",
      "\u001b[1m50/50\u001b[0m \u001b[32m━━━━━━━━━━━━━━━━━━━━\u001b[0m\u001b[37m\u001b[0m \u001b[1m0s\u001b[0m 614us/step - accuracy: 1.0000 - loss: 3.9792e-14 - val_accuracy: 1.0000 - val_loss: 1.1800e-08\n",
      "Epoch 14/20\n",
      "\u001b[1m50/50\u001b[0m \u001b[32m━━━━━━━━━━━━━━━━━━━━\u001b[0m\u001b[37m\u001b[0m \u001b[1m0s\u001b[0m 598us/step - accuracy: 1.0000 - loss: 2.7887e-14 - val_accuracy: 1.0000 - val_loss: 1.1798e-08\n",
      "Epoch 15/20\n",
      "\u001b[1m50/50\u001b[0m \u001b[32m━━━━━━━━━━━━━━━━━━━━\u001b[0m\u001b[37m\u001b[0m \u001b[1m0s\u001b[0m 609us/step - accuracy: 1.0000 - loss: 1.6615e-11 - val_accuracy: 1.0000 - val_loss: 1.1798e-08\n",
      "Epoch 16/20\n",
      "\u001b[1m50/50\u001b[0m \u001b[32m━━━━━━━━━━━━━━━━━━━━\u001b[0m\u001b[37m\u001b[0m \u001b[1m0s\u001b[0m 615us/step - accuracy: 1.0000 - loss: 5.9277e-08 - val_accuracy: 1.0000 - val_loss: 5.1630e-09\n",
      "Epoch 17/20\n",
      "\u001b[1m50/50\u001b[0m \u001b[32m━━━━━━━━━━━━━━━━━━━━\u001b[0m\u001b[37m\u001b[0m \u001b[1m0s\u001b[0m 836us/step - accuracy: 1.0000 - loss: 8.4791e-13 - val_accuracy: 1.0000 - val_loss: 5.0932e-09\n",
      "Epoch 18/20\n",
      "\u001b[1m50/50\u001b[0m \u001b[32m━━━━━━━━━━━━━━━━━━━━\u001b[0m\u001b[37m\u001b[0m \u001b[1m0s\u001b[0m 816us/step - accuracy: 1.0000 - loss: 5.5449e-13 - val_accuracy: 1.0000 - val_loss: 5.0928e-09\n",
      "Epoch 19/20\n",
      "\u001b[1m50/50\u001b[0m \u001b[32m━━━━━━━━━━━━━━━━━━━━\u001b[0m\u001b[37m\u001b[0m \u001b[1m0s\u001b[0m 608us/step - accuracy: 1.0000 - loss: 7.9961e-10 - val_accuracy: 1.0000 - val_loss: 5.0928e-09\n",
      "Epoch 20/20\n",
      "\u001b[1m50/50\u001b[0m \u001b[32m━━━━━━━━━━━━━━━━━━━━\u001b[0m\u001b[37m\u001b[0m \u001b[1m0s\u001b[0m 598us/step - accuracy: 1.0000 - loss: 2.7972e-17 - val_accuracy: 1.0000 - val_loss: 5.0928e-09\n"
     ]
    },
    {
     "data": {
      "text/plain": [
       "<keras.src.callbacks.history.History at 0x312847810>"
      ]
     },
     "execution_count": 107,
     "metadata": {},
     "output_type": "execute_result"
    }
   ],
   "source": [
    "# Train the model\n",
    "model.fit(X_train_rnn, y_train, epochs=20, batch_size=32, validation_data=(X_test_rnn, y_test))"
   ]
  },
  {
   "cell_type": "code",
   "execution_count": 123,
   "id": "214ce04a-e4e6-4d3b-83fe-4c6ea95f6dce",
   "metadata": {},
   "outputs": [],
   "source": [
    "from sklearn.ensemble import IsolationForest\n",
    "\n",
    "# Fit the Isolation Forest model\n",
    "iso_forest = IsolationForest(contamination=0.07)  # Adjust contamination based on your needs\n",
    "iso_forest.fit(X_train)\n",
    "\n",
    "# Predict anomalies on the test set\n",
    "anomaly_predictions = iso_forest.predict(X_test)"
   ]
  },
  {
   "cell_type": "code",
   "execution_count": 124,
   "id": "23b06b04-a39a-464f-bff7-f325bb0ac889",
   "metadata": {},
   "outputs": [
    {
     "name": "stdout",
     "output_type": "stream",
     "text": [
      "\u001b[1m13/13\u001b[0m \u001b[32m━━━━━━━━━━━━━━━━━━━━\u001b[0m\u001b[37m\u001b[0m \u001b[1m0s\u001b[0m 537us/step\n"
     ]
    }
   ],
   "source": [
    "# Get RNN predictions\n",
    "rnn_predictions = model.predict(X_test_rnn)\n",
    "rnn_predictions = (rnn_predictions > 0.5).astype(int).flatten()  # Convert to binary\n",
    "\n",
    "# Combine predictions (simple majority vote)\n",
    "combined_predictions = np.where((rnn_predictions + (anomaly_predictions == -1).astype(int)) > 0, 1, 0)"
   ]
  },
  {
   "cell_type": "code",
   "execution_count": 125,
   "id": "c2f3ea1d-18ce-43c2-af23-af856f205f4e",
   "metadata": {},
   "outputs": [
    {
     "name": "stdout",
     "output_type": "stream",
     "text": [
      "[[381  19]\n",
      " [  0   0]]\n",
      "              precision    recall  f1-score   support\n",
      "\n",
      "           0       1.00      0.95      0.98       400\n",
      "           1       0.00      0.00      0.00         0\n",
      "\n",
      "    accuracy                           0.95       400\n",
      "   macro avg       0.50      0.48      0.49       400\n",
      "weighted avg       1.00      0.95      0.98       400\n",
      "\n"
     ]
    },
    {
     "name": "stderr",
     "output_type": "stream",
     "text": [
      "/opt/anaconda3/lib/python3.11/site-packages/sklearn/metrics/_classification.py:1509: UndefinedMetricWarning: Recall is ill-defined and being set to 0.0 in labels with no true samples. Use `zero_division` parameter to control this behavior.\n",
      "  _warn_prf(average, modifier, f\"{metric.capitalize()} is\", len(result))\n",
      "/opt/anaconda3/lib/python3.11/site-packages/sklearn/metrics/_classification.py:1509: UndefinedMetricWarning: Recall is ill-defined and being set to 0.0 in labels with no true samples. Use `zero_division` parameter to control this behavior.\n",
      "  _warn_prf(average, modifier, f\"{metric.capitalize()} is\", len(result))\n",
      "/opt/anaconda3/lib/python3.11/site-packages/sklearn/metrics/_classification.py:1509: UndefinedMetricWarning: Recall is ill-defined and being set to 0.0 in labels with no true samples. Use `zero_division` parameter to control this behavior.\n",
      "  _warn_prf(average, modifier, f\"{metric.capitalize()} is\", len(result))\n"
     ]
    }
   ],
   "source": [
    "from sklearn.metrics import classification_report, confusion_matrix\n",
    "\n",
    "print(confusion_matrix(y_test, combined_predictions))\n",
    "print(classification_report(y_test, combined_predictions))"
   ]
  },
  {
   "cell_type": "code",
   "execution_count": 128,
   "id": "78612ca4-90da-4483-9144-e025597b18bb",
   "metadata": {},
   "outputs": [
    {
     "data": {
      "image/png": "[encoded data removed]",
      "text/plain": [
       "<Figure size 800x600 with 1 Axes>"
      ]
     },
     "metadata": {},
     "output_type": "display_data"
    }
   ],
   "source": [
    "\n",
    "import numpy as np\n",
    "import seaborn as sns\n",
    "import matplotlib.pyplot as plt\n",
    "from sklearn.metrics import confusion_matrix\n",
    "\n",
    "# Example data (update this based on your predictions and labels)\n",
    "# Replace with your actual predictions and true labels\n",
    "y_true = [0]*400 + [1]*0  # True labels (400 instances of class 0 and 0 of class 1)\n",
    "y_pred = [0]*381 + [1]*19  # Predicted labels (381 instances predicted as 0, 19 as 1)\n",
    "\n",
    "# Create confusion matrix\n",
    "cm = confusion_matrix(y_true, y_pred, labels=[0, 1])\n",
    "\n",
    "# Set up the matplotlib figure\n",
    "plt.figure(figsize=(8, 6))\n",
    "\n",
    "# Create a heatmap using seaborn\n",
    "sns.heatmap(cm, annot=True, fmt='d', cmap='Blues', cbar=False, \n",
    "            xticklabels=['Predicted 0', 'Predicted 1'], \n",
    "            yticklabels=['Actual 0', 'Actual 1'])\n",
    "\n",
    "# Add labels and title\n",
    "plt.ylabel('Actual')\n",
    "plt.xlabel('Predicted')\n",
    "plt.title('Confusion Matrix')\n",
    "\n",
    "# Show the plot\n",
    "plt.show()\n",
    "\n"
   ]
  },
  {
   "cell_type": "code",
   "execution_count": 129,
   "id": "0a1c918d-efe1-4beb-a1e8-0ebbaf5ef1f8",
   "metadata": {},
   "outputs": [
    {
     "name": "stdout",
     "output_type": "stream",
     "text": [
      "Accuracy: 95.25%\n"
     ]
    }
   ],
   "source": [
    "# Calculate accuracy\n",
    "accuracy = (cm[0, 0] + cm[1, 1]) / np.sum(cm)\n",
    "\n",
    "# Print accuracy\n",
    "print(f'Accuracy: {accuracy * 100:.2f}%')"
   ]
  },
  {
   "cell_type": "code",
   "execution_count": null,
   "id": "90b3fd70-fa5b-4435-b314-e20a4594cec1",
   "metadata": {},
   "outputs": [],
   "source": []
  }
 ],
 "metadata": {
  "kernelspec": {
   "display_name": "Python 3 (ipykernel)",
   "language": "python",
   "name": "python3"
  },
  "language_info": {
   "codemirror_mode": {
    "name": "ipython",
    "version": 3
   },
   "file_extension": ".py",
   "mimetype": "text/x-python",
   "name": "python",
   "nbconvert_exporter": "python",
   "pygments_lexer": "ipython3",
   "version": "3.11.7"
  }
 },
 "nbformat": 4,
 "nbformat_minor": 5
}
